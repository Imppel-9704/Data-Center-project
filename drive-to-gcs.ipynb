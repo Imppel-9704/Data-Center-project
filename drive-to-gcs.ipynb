{
 "cells": [
  {
   "cell_type": "code",
   "execution_count": null,
   "metadata": {},
   "outputs": [],
   "source": [
    "from getfilelistpy import getfilelist\n",
    "from google_drive_downloader import GoogleDriveDownloader as gdd\n",
    "from datetime import datetime, timedelta\n",
    "import os\n",
    "from google.cloud import storage\n",
    "\n",
    "\n",
    "def list_file_from_gdrive(request=None):\n",
    "    resource = {\n",
    "        \"api_key\": \" ## API Key from GCP APIs & Services >> Credentials ## \",\n",
    "        \"id\": \" ## Google Drive ID ## \",\n",
    "        \"fields\": \"files(name,id,createdTime,modifiedTime)\",\n",
    "    }\n",
    "    res = getfilelist.GetFileList(resource)\n",
    "    files = res['fileList']\n",
    "    # Sort modified time descending order\n",
    "    sorted_files = sorted(files, key=lambda x: x.get('modifiedTime', 0), reverse=True)\n",
    "\n",
    "    for files in sorted_files:\n",
    "        for file in files.get('files'):\n",
    "            modified_time = datetime.fromisoformat(file.get('modifiedTime')[:-1]).replace(tzinfo=None)\n",
    "            print(modified_time)\n",
    "            if modified_time >= datetime.now() - timedelta(hours=24):\n",
    "                download_file(file['id'], file['name'])\n",
    "    return \"Completed\"\n",
    "\n",
    "def download_file(id, name):\n",
    "    gdd.download_file_from_google_drive(file_id=id, dest_path='/tmp/'+name+'.xlsx', unzip=False)\n",
    "    upload_to_gcs('/tmp/'+name+'.xlsx', name)\n",
    "    os.remove('/tmp/'+name+'.xlsx')\n",
    "    return \"Completed\"\n",
    "\n",
    "def upload_to_gcs(path, destination):\n",
    "    storage_client = storage.Client()\n",
    "    bucket = storage_client.bucket(' ## Insert your bucket name ## ')\n",
    "    blob = bucket.blob(destination)\n",
    "    blob.upload_from_filename(path)\n",
    "\n",
    "if __name__ == '__main__':\n",
    "    list_file_from_gdrive()"
   ]
  }
 ],
 "metadata": {
  "language_info": {
   "name": "python"
  },
  "orig_nbformat": 4
 },
 "nbformat": 4,
 "nbformat_minor": 2
}
